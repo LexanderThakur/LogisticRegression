{
  "nbformat": 4,
  "nbformat_minor": 0,
  "metadata": {
    "colab": {
      "provenance": [],
      "authorship_tag": "ABX9TyONQ7b4LWU38/rN98YtwiHe"
    },
    "kernelspec": {
      "name": "python3",
      "display_name": "Python 3"
    },
    "language_info": {
      "name": "python"
    }
  },
  "cells": [
    {
      "cell_type": "code",
      "execution_count": 4,
      "metadata": {
        "id": "1HVLhRlwjo75",
        "colab": {
          "base_uri": "https://localhost:8080/",
          "height": 373
        },
        "outputId": "3f4bb812-d0d0-4e84-b097-6e3170f7f7ef"
      },
      "outputs": [
        {
          "output_type": "error",
          "ename": "ValueError",
          "evalue": "Number of informative, redundant and repeated features must sum to less than the number of total features",
          "traceback": [
            "\u001b[0;31m---------------------------------------------------------------------------\u001b[0m",
            "\u001b[0;31mValueError\u001b[0m                                Traceback (most recent call last)",
            "\u001b[0;32m<ipython-input-4-46dbe97ff037>\u001b[0m in \u001b[0;36m<cell line: 0>\u001b[0;34m()\u001b[0m\n\u001b[1;32m     53\u001b[0m     \u001b[0;31m# Generate sample dataset (2 features, binary labels)\u001b[0m\u001b[0;34m\u001b[0m\u001b[0;34m\u001b[0m\u001b[0m\n\u001b[1;32m     54\u001b[0m     \u001b[0;32mfrom\u001b[0m \u001b[0msklearn\u001b[0m\u001b[0;34m.\u001b[0m\u001b[0mdatasets\u001b[0m \u001b[0;32mimport\u001b[0m \u001b[0mmake_classification\u001b[0m\u001b[0;34m\u001b[0m\u001b[0;34m\u001b[0m\u001b[0m\n\u001b[0;32m---> 55\u001b[0;31m     \u001b[0mX\u001b[0m\u001b[0;34m,\u001b[0m \u001b[0my\u001b[0m \u001b[0;34m=\u001b[0m \u001b[0mmake_classification\u001b[0m\u001b[0;34m(\u001b[0m\u001b[0mn_samples\u001b[0m\u001b[0;34m=\u001b[0m\u001b[0;36m500\u001b[0m\u001b[0;34m,\u001b[0m \u001b[0mn_features\u001b[0m\u001b[0;34m=\u001b[0m\u001b[0;36m2\u001b[0m\u001b[0;34m,\u001b[0m \u001b[0mn_classes\u001b[0m\u001b[0;34m=\u001b[0m\u001b[0;36m2\u001b[0m\u001b[0;34m,\u001b[0m \u001b[0mrandom_state\u001b[0m\u001b[0;34m=\u001b[0m\u001b[0;36m42\u001b[0m\u001b[0;34m)\u001b[0m\u001b[0;34m\u001b[0m\u001b[0;34m\u001b[0m\u001b[0m\n\u001b[0m\u001b[1;32m     56\u001b[0m \u001b[0;34m\u001b[0m\u001b[0m\n\u001b[1;32m     57\u001b[0m     \u001b[0;31m# Train logistic regression model\u001b[0m\u001b[0;34m\u001b[0m\u001b[0;34m\u001b[0m\u001b[0m\n",
            "\u001b[0;32m/usr/local/lib/python3.11/dist-packages/sklearn/utils/_param_validation.py\u001b[0m in \u001b[0;36mwrapper\u001b[0;34m(*args, **kwargs)\u001b[0m\n\u001b[1;32m    214\u001b[0m                     )\n\u001b[1;32m    215\u001b[0m                 ):\n\u001b[0;32m--> 216\u001b[0;31m                     \u001b[0;32mreturn\u001b[0m \u001b[0mfunc\u001b[0m\u001b[0;34m(\u001b[0m\u001b[0;34m*\u001b[0m\u001b[0margs\u001b[0m\u001b[0;34m,\u001b[0m \u001b[0;34m**\u001b[0m\u001b[0mkwargs\u001b[0m\u001b[0;34m)\u001b[0m\u001b[0;34m\u001b[0m\u001b[0;34m\u001b[0m\u001b[0m\n\u001b[0m\u001b[1;32m    217\u001b[0m             \u001b[0;32mexcept\u001b[0m \u001b[0mInvalidParameterError\u001b[0m \u001b[0;32mas\u001b[0m \u001b[0me\u001b[0m\u001b[0;34m:\u001b[0m\u001b[0;34m\u001b[0m\u001b[0;34m\u001b[0m\u001b[0m\n\u001b[1;32m    218\u001b[0m                 \u001b[0;31m# When the function is just a wrapper around an estimator, we allow\u001b[0m\u001b[0;34m\u001b[0m\u001b[0;34m\u001b[0m\u001b[0m\n",
            "\u001b[0;32m/usr/local/lib/python3.11/dist-packages/sklearn/datasets/_samples_generator.py\u001b[0m in \u001b[0;36mmake_classification\u001b[0;34m(n_samples, n_features, n_informative, n_redundant, n_repeated, n_classes, n_clusters_per_class, weights, flip_y, class_sep, hypercube, shift, scale, shuffle, random_state)\u001b[0m\n\u001b[1;32m    207\u001b[0m     \u001b[0;31m# Count features, clusters and samples\u001b[0m\u001b[0;34m\u001b[0m\u001b[0;34m\u001b[0m\u001b[0m\n\u001b[1;32m    208\u001b[0m     \u001b[0;32mif\u001b[0m \u001b[0mn_informative\u001b[0m \u001b[0;34m+\u001b[0m \u001b[0mn_redundant\u001b[0m \u001b[0;34m+\u001b[0m \u001b[0mn_repeated\u001b[0m \u001b[0;34m>\u001b[0m \u001b[0mn_features\u001b[0m\u001b[0;34m:\u001b[0m\u001b[0;34m\u001b[0m\u001b[0;34m\u001b[0m\u001b[0m\n\u001b[0;32m--> 209\u001b[0;31m         raise ValueError(\n\u001b[0m\u001b[1;32m    210\u001b[0m             \u001b[0;34m\"Number of informative, redundant and repeated \"\u001b[0m\u001b[0;34m\u001b[0m\u001b[0;34m\u001b[0m\u001b[0m\n\u001b[1;32m    211\u001b[0m             \u001b[0;34m\"features must sum to less than the number of total\"\u001b[0m\u001b[0;34m\u001b[0m\u001b[0;34m\u001b[0m\u001b[0m\n",
            "\u001b[0;31mValueError\u001b[0m: Number of informative, redundant and repeated features must sum to less than the number of total features"
          ]
        }
      ],
      "source": [
        "import numpy as np\n",
        "\n",
        "# Sigmoid function\n",
        "def sigmoid(z):\n",
        "    return 1 / (1 + np.exp(-z))\n",
        "\n",
        "# Initialize weights and bias\n",
        "def initialize_weights(n_features):\n",
        "    weights = np.zeros(n_features)\n",
        "    bias = 0\n",
        "    return weights, bias\n",
        "\n",
        "# Forward and backward propagation\n",
        "def propagate(X, y, weights, bias):\n",
        "    m = X.shape[0]\n",
        "    z = np.dot(X, weights) + bias\n",
        "    A = sigmoid(z)\n",
        "\n",
        "    cost = -(1/m) * np.sum(y*np.log(A) + (1 - y)*np.log(1 - A))\n",
        "\n",
        "    dw = (1/m) * np.dot(X.T, (A - y))\n",
        "    db = (1/m) * np.sum(A - y)\n",
        "\n",
        "    return dw, db, cost\n",
        "\n",
        "# Training function\n",
        "def train(X, y, lr=0.01, num_iterations=1000):\n",
        "    n_features = X.shape[1]\n",
        "    weights, bias = initialize_weights(n_features)\n",
        "\n",
        "    for i in range(num_iterations):\n",
        "        dw, db, cost = propagate(X, y, weights, bias)\n",
        "        weights -= lr * dw\n",
        "        bias -= lr * db\n",
        "\n",
        "        if i % 100 == 0:\n",
        "            print(f\"Iteration {i}, Cost: {cost:.4f}\")\n",
        "\n",
        "    return weights, bias\n",
        "\n",
        "# Prediction function\n",
        "def predict(X, weights, bias):\n",
        "    z = np.dot(X, weights) + bias\n",
        "    A = sigmoid(z)\n",
        "    return (A >= 0.5).astype(int)\n",
        "\n",
        "# Accuracy function\n",
        "def accuracy(y_true, y_pred):\n",
        "    return np.mean(y_true == y_pred)\n",
        "\n",
        "# Example usage with dummy data\n",
        "if __name__ == \"__main__\":\n",
        "    # Generate sample dataset (2 features, binary labels)\n",
        "    from sklearn.datasets import make_classification\n",
        "    X, y = make_classification(n_samples=500, n_features=2, n_classes=2, random_state=42)\n",
        "\n",
        "    # Train logistic regression model\n",
        "    weights, bias = train(X, y, lr=0.1, num_iterations=1000)\n",
        "\n",
        "    # Predict and evaluate\n",
        "    y_pred = predict(X, weights, bias)\n",
        "    acc = accuracy(y, y_pred)\n",
        "    print(f\"Training Accuracy: {acc*100:.2f}%\")\n"
      ]
    },
    {
      "cell_type": "code",
      "source": [
        "import pandas as pd\n",
        "import numpy as np\n",
        "\n",
        "def sigmoid(z):\n",
        "  return 1/(1+np.exp(-z))\n",
        "\n",
        "def initialize(n_features):\n",
        "  weights=np.zeros(n_features)\n",
        "  bias=0;\n",
        "  return weights,bias\n",
        "\n",
        "def propogate(X, y, weights, bias):\n",
        "    m = X.shape[0]\n",
        "    A = sigmoid(np.dot(X, weights) + bias)\n",
        "    epsilon = 1e-15\n",
        "    A = np.clip(A, epsilon, 1 - epsilon)\n",
        "\n",
        "    cost = (-1 / m) * np.sum(y * np.log(A) + (1 - y) * np.log(1 - A))\n",
        "    dw = (1 / m) * np.dot(X.T, (A - y))\n",
        "    db = (1 / m) * np.sum(A - y)\n",
        "\n",
        "    return dw, db, cost\n",
        "\n",
        "def train(X,y,lr=0.1,n_iterations=1000):\n",
        "  weights,bias=initialize(X.shape[1])\n",
        "\n",
        "  for i in range(0,1000):\n",
        "    dw,db,cost=propogate(X,y,weights,bias)\n",
        "    weights=weights-lr*dw\n",
        "    bias=bias-lr*db\n",
        "\n",
        "  return weights,bias\n",
        "\n",
        "\n",
        "def predict(X,weights,bias):\n",
        "  A=sigmoid(bias+np.dot(X,weights))\n",
        "\n",
        "  return (A>=0.5).astype(int)\n",
        "\n",
        "def accuracy(y_true,y_pred):\n",
        "\n",
        "  return np.mean(y_true==y_pred)\n",
        "\n",
        "\n",
        "from sklearn.datasets import make_classification\n",
        "\n",
        "X1, y = make_classification(n_samples=500, n_features=2, n_informative=2, n_redundant=0, n_classes=2, random_state=42)\n",
        "\n",
        "\n",
        "from sklearn.preprocessing import StandardScaler\n",
        "scaler = StandardScaler()\n",
        "X = scaler.fit_transform(X1)\n",
        "\n",
        "\n",
        "weights,bias=train(X,y)\n",
        "y_pred=predict(X,weights,bias)\n",
        "acc=accuracy(y,y_pred)\n",
        "print(f\"Training Accuracy= {acc*100:.2f}%\")"
      ],
      "metadata": {
        "colab": {
          "base_uri": "https://localhost:8080/"
        },
        "id": "MFAUJAam94io",
        "outputId": "da95b158-de20-45d4-d4e3-fa76f24395a4"
      },
      "execution_count": 10,
      "outputs": [
        {
          "output_type": "stream",
          "name": "stdout",
          "text": [
            "Training Accuracy= 89.00%\n"
          ]
        }
      ]
    },
    {
      "cell_type": "code",
      "source": [],
      "metadata": {
        "id": "8yCCJOSBFj3j"
      },
      "execution_count": null,
      "outputs": []
    }
  ]
}