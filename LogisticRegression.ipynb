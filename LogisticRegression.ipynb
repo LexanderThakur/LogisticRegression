{
  "nbformat": 4,
  "nbformat_minor": 0,
  "metadata": {
    "colab": {
      "provenance": [],
      "authorship_tag": "ABX9TyO5KQ5vmDELOwA2JFULT2Dg"
    },
    "kernelspec": {
      "name": "python3",
      "display_name": "Python 3"
    },
    "language_info": {
      "name": "python"
    }
  },
  "cells": [
    {
      "cell_type": "code",
      "source": [
        "import pandas as pd\n",
        "import numpy as np\n",
        "\n",
        "def sigmoid(z):\n",
        "  return 1/(1+np.exp(-z))\n",
        "\n",
        "def initialize(n_features):\n",
        "  weights=np.zeros(n_features)\n",
        "  bias=0;\n",
        "  return weights,bias\n",
        "\n",
        "def propogate(X, y, weights, bias):\n",
        "    m = X.shape[0]\n",
        "    A = sigmoid(np.dot(X, weights) + bias)\n",
        "    epsilon = 1e-15\n",
        "    A = np.clip(A, epsilon, 1 - epsilon)\n",
        "\n",
        "    cost = (-1 / m) * np.sum(y * np.log(A) + (1 - y) * np.log(1 - A))\n",
        "    dw = (1 / m) * np.dot(X.T, (A - y))\n",
        "    db = (1 / m) * np.sum(A - y)\n",
        "\n",
        "    return dw, db, cost\n",
        "\n",
        "def train(X,y,lr=0.1,n_iterations=1000):\n",
        "  weights,bias=initialize(X.shape[1])\n",
        "\n",
        "  for i in range(0,1000):\n",
        "    dw,db,cost=propogate(X,y,weights,bias)\n",
        "    weights=weights-lr*dw\n",
        "    bias=bias-lr*db\n",
        "\n",
        "  return weights,bias\n",
        "\n",
        "\n",
        "def predict(X,weights,bias):\n",
        "  A=sigmoid(bias+np.dot(X,weights))\n",
        "\n",
        "  return (A>=0.5).astype(int)\n",
        "\n",
        "def accuracy(y_true,y_pred):\n",
        "\n",
        "  return np.mean(y_true==y_pred)\n",
        "\n",
        "\n",
        "from sklearn.datasets import make_classification\n",
        "\n",
        "X1, y = make_classification(n_samples=500, n_features=2, n_informative=2, n_redundant=0, n_classes=2, random_state=42)\n",
        "\n",
        "\n",
        "from sklearn.preprocessing import StandardScaler\n",
        "scaler = StandardScaler()\n",
        "X = scaler.fit_transform(X1)\n",
        "\n",
        "\n",
        "weights,bias=train(X,y)\n",
        "y_pred=predict(X,weights,bias)\n",
        "acc=accuracy(y,y_pred)\n",
        "print(f\"Training Accuracy= {acc*100:.2f}%\")"
      ],
      "metadata": {
        "colab": {
          "base_uri": "https://localhost:8080/"
        },
        "id": "MFAUJAam94io",
        "outputId": "da95b158-de20-45d4-d4e3-fa76f24395a4"
      },
      "execution_count": 10,
      "outputs": [
        {
          "output_type": "stream",
          "name": "stdout",
          "text": [
            "Training Accuracy= 89.00%\n"
          ]
        }
      ]
    },
    {
      "cell_type": "code",
      "source": [],
      "metadata": {
        "id": "8yCCJOSBFj3j"
      },
      "execution_count": null,
      "outputs": []
    }
  ]
}